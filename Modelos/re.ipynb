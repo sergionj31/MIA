{
 "cells": [
  {
   "cell_type": "markdown",
   "metadata": {},
   "source": [
    "# Desarrollar un patrón para validar las siguientes cadenas que se solicitan:"
   ]
  },
  {
   "cell_type": "markdown",
   "metadata": {},
   "source": [
    "## 1. Importaciones"
   ]
  },
  {
   "cell_type": "code",
   "execution_count": 2,
   "metadata": {},
   "outputs": [],
   "source": [
    "import re"
   ]
  },
  {
   "cell_type": "markdown",
   "metadata": {},
   "source": [
    "## a)  un número negativo"
   ]
  },
  {
   "cell_type": "code",
   "execution_count": 3,
   "metadata": {},
   "outputs": [
    {
     "name": "stdout",
     "output_type": "stream",
     "text": [
      "Coincide\n"
     ]
    }
   ],
   "source": [
    "reg ='(-[0-9])([.,][0-9]+)?(e[+-][0-9]+)|((-[0-9]+)([.,][0-9]+)?)'\n",
    "print(\"Coincide\" if re.fullmatch(reg, '-1,34e+23') else \"No coincide\")    "
   ]
  },
  {
   "cell_type": "markdown",
   "metadata": {},
   "source": [
    "## b) número de teléfono"
   ]
  },
  {
   "cell_type": "code",
   "execution_count": 32,
   "metadata": {},
   "outputs": [
    {
     "name": "stdout",
     "output_type": "stream",
     "text": [
      "Coincide\n"
     ]
    },
    {
     "name": "stderr",
     "output_type": "stream",
     "text": [
      "<>:1: SyntaxWarning: invalid escape sequence '\\+'\n",
      "<>:1: SyntaxWarning: invalid escape sequence '\\+'\n",
      "C:\\Users\\alumnoBIGDATA\\AppData\\Local\\Temp\\ipykernel_13192\\264360839.py:1: SyntaxWarning: invalid escape sequence '\\+'\n",
      "  reg = '^(\\+34\\s?([6-9])(\\d{8}))|(\\+1\\s?[2-3](\\d{7}))$'\n"
     ]
    }
   ],
   "source": [
    "reg = '^(\\+34\\s?([6-9])(\\d{8}))|(\\+1\\s?[2-3](\\d{7}))$'\n",
    "print(\"Coincide\" if re.fullmatch(reg, '+34 615409457') else \"No coincide\")    "
   ]
  },
  {
   "cell_type": "markdown",
   "metadata": {},
   "source": [
    "## c) dni con la letra correspondiente o nie"
   ]
  },
  {
   "cell_type": "code",
   "execution_count": 34,
   "metadata": {},
   "outputs": [
    {
     "name": "stdout",
     "output_type": "stream",
     "text": [
      "Coincide\n"
     ]
    },
    {
     "name": "stderr",
     "output_type": "stream",
     "text": [
      "<>:1: SyntaxWarning: invalid escape sequence '\\d'\n",
      "<>:1: SyntaxWarning: invalid escape sequence '\\d'\n",
      "C:\\Users\\alumnoBIGDATA\\AppData\\Local\\Temp\\ipykernel_13192\\2338428991.py:1: SyntaxWarning: invalid escape sequence '\\d'\n",
      "  reg = '^(\\d{8}[A-HJ-NP-TV-Za-hj-np-tv-z])|([GXYZgxyz]\\d{7}[GXYZgxyz])$'\n"
     ]
    }
   ],
   "source": [
    "reg = '^(\\d{8}[A-HJ-NP-TV-Za-hj-np-tv-z])|([GXYZgxyz]\\d{7}[GXYZgxyz])$'\n",
    "print(\"Coincide\" if re.fullmatch(reg, '30938293X') else \"No coincide\")    "
   ]
  },
  {
   "cell_type": "markdown",
   "metadata": {},
   "source": [
    "## d) una dirección ip"
   ]
  },
  {
   "cell_type": "code",
   "execution_count": null,
   "metadata": {},
   "outputs": [
    {
     "name": "stdout",
     "output_type": "stream",
     "text": [
      "Coincide\n"
     ]
    },
    {
     "name": "stderr",
     "output_type": "stream",
     "text": [
      "<>:1: SyntaxWarning: invalid escape sequence '\\.'\n",
      "<>:1: SyntaxWarning: invalid escape sequence '\\.'\n",
      "C:\\Users\\alumnoBIGDATA\\AppData\\Local\\Temp\\ipykernel_13192\\3057648688.py:1: SyntaxWarning: invalid escape sequence '\\.'\n",
      "  reg = '(([0-9]|[1-9][0-9]|1[0-9][0-9]|2[0-4][0-9]|25[0-5])\\.){3}([0-9]|[1-9][0-9]|1[0-9][0-9]|2[0-4][0-9]|25[0-5])'\n"
     ]
    }
   ],
   "source": [
    "reg = '^(([0-9]|[1-9][0-9]|1[0-9][0-9]|2[0-4][0-9]|25[0-5])\\.){3}([0-9]|[1-9][0-9]|1[0-9][0-9]|2[0-4][0-9]|25[0-5])$'\n",
    "print(\"Coincide\" if re.fullmatch(reg, '192.168.1.30') else \"No coincide\")    "
   ]
  },
  {
   "cell_type": "markdown",
   "metadata": {},
   "source": [
    "## e) no tener más de tres vocales consecutivas"
   ]
  },
  {
   "cell_type": "code",
   "execution_count": 37,
   "metadata": {},
   "outputs": [
    {
     "name": "stdout",
     "output_type": "stream",
     "text": [
      "Coincide\n"
     ]
    }
   ],
   "source": [
    "reg = '^(?!.*[aeiouAEIOU]{4}).*$'\n",
    "print(\"Coincide\" if re.fullmatch(reg, 'aaart') else \"No coincide\")    "
   ]
  },
  {
   "cell_type": "markdown",
   "metadata": {},
   "source": [
    "## f) Comienza con c ó C y no tiene más de 5 caracteres"
   ]
  },
  {
   "cell_type": "code",
   "execution_count": 8,
   "metadata": {},
   "outputs": [
    {
     "name": "stdout",
     "output_type": "stream",
     "text": [
      "No coincide\n"
     ]
    }
   ],
   "source": [
    "reg = '[cC].{4}'\n",
    "print(\"Coincide\" if re.fullmatch(reg, 'Caballo') else \"No coincide\")    "
   ]
  },
  {
   "cell_type": "markdown",
   "metadata": {},
   "source": [
    "## g) Validar una variable php"
   ]
  },
  {
   "cell_type": "code",
   "execution_count": 38,
   "metadata": {},
   "outputs": [
    {
     "name": "stdout",
     "output_type": "stream",
     "text": [
      "Coincide\n"
     ]
    },
    {
     "name": "stderr",
     "output_type": "stream",
     "text": [
      "<>:1: SyntaxWarning: invalid escape sequence '\\$'\n",
      "<>:1: SyntaxWarning: invalid escape sequence '\\$'\n",
      "C:\\Users\\alumnoBIGDATA\\AppData\\Local\\Temp\\ipykernel_13192\\686730311.py:1: SyntaxWarning: invalid escape sequence '\\$'\n",
      "  reg = '\\$[a-zA-Z_]\\w*$'\n"
     ]
    }
   ],
   "source": [
    "reg = '\\$[a-zA-Z_]\\w*$'\n",
    "print(\"Coincide\" if re.fullmatch(reg, '$dwqd') else \"No coincide\")    "
   ]
  },
  {
   "cell_type": "markdown",
   "metadata": {},
   "source": [
    "## h) Contener mayúsculas en cualquier posición, excepto la primera y última"
   ]
  },
  {
   "cell_type": "code",
   "execution_count": 10,
   "metadata": {},
   "outputs": [
    {
     "name": "stdout",
     "output_type": "stream",
     "text": [
      "No coincide\n"
     ]
    }
   ],
   "source": [
    "reg = '[^A-Z].*[A-Z].*[^A-Z]$'\n",
    "print(\"Coincide\" if re.fullmatch(reg, 'ZBcdz') else \"No coincide\")    "
   ]
  },
  {
   "cell_type": "markdown",
   "metadata": {},
   "source": [
    "## i) validar un dirección http ó https"
   ]
  },
  {
   "cell_type": "code",
   "execution_count": 11,
   "metadata": {},
   "outputs": [
    {
     "name": "stdout",
     "output_type": "stream",
     "text": [
      "Coincide\n"
     ]
    },
    {
     "name": "stderr",
     "output_type": "stream",
     "text": [
      "<>:1: SyntaxWarning: invalid escape sequence '\\.'\n",
      "<>:1: SyntaxWarning: invalid escape sequence '\\.'\n",
      "C:\\Users\\alumnoBIGDATA\\AppData\\Local\\Temp\\ipykernel_13192\\3999342936.py:1: SyntaxWarning: invalid escape sequence '\\.'\n",
      "  reg = '(http|https)://[a-zA-Z0-9.-]+\\.[a-zA-Z]{2,}(/.*)?$'\n"
     ]
    }
   ],
   "source": [
    "reg = '(http|https)://[a-zA-Z0-9.-]+\\.[a-zA-Z]{2,}(/.*)?$'\n",
    "print(\"Coincide\" if re.fullmatch(reg, 'https://www.google.com') else \"No coincide\")    "
   ]
  },
  {
   "cell_type": "markdown",
   "metadata": {},
   "source": [
    "## j)validar una dirección de correo para gmail.com, outlook.es y g.educaand.es"
   ]
  },
  {
   "cell_type": "code",
   "execution_count": 12,
   "metadata": {},
   "outputs": [
    {
     "name": "stdout",
     "output_type": "stream",
     "text": [
      "Coincide\n"
     ]
    },
    {
     "name": "stderr",
     "output_type": "stream",
     "text": [
      "<>:1: SyntaxWarning: invalid escape sequence '\\.'\n",
      "<>:1: SyntaxWarning: invalid escape sequence '\\.'\n",
      "C:\\Users\\alumnoBIGDATA\\AppData\\Local\\Temp\\ipykernel_13192\\41075936.py:1: SyntaxWarning: invalid escape sequence '\\.'\n",
      "  reg = '[a-zA-Z0-9._%+-]+@(gmail\\.com|outlook\\.es|g\\.educaand\\.es)$'\n"
     ]
    }
   ],
   "source": [
    "reg = '[a-zA-Z0-9._%+-]+@(gmail\\.com|outlook\\.es|g\\.educaand\\.es)$'\n",
    "print(\"Coincide\" if re.fullmatch(reg, 'usuario@gmail.com') else \"No coincide\")    "
   ]
  }
 ],
 "metadata": {
  "kernelspec": {
   "display_name": ".venv",
   "language": "python",
   "name": "python3"
  },
  "language_info": {
   "codemirror_mode": {
    "name": "ipython",
    "version": 3
   },
   "file_extension": ".py",
   "mimetype": "text/x-python",
   "name": "python",
   "nbconvert_exporter": "python",
   "pygments_lexer": "ipython3",
   "version": "3.12.7"
  }
 },
 "nbformat": 4,
 "nbformat_minor": 2
}
